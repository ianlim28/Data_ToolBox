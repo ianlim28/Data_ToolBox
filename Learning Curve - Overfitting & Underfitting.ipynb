{
 "cells": [
  {
   "cell_type": "code",
   "execution_count": null,
   "metadata": {},
   "outputs": [],
   "source": [
    "from sklearn.model_selection import learning_curve\n",
    "\n",
    "def plot_learning_curve(model):\n",
    "    train_sizes, train_scores, test_scores = learning_curve(estimator = model, X=X, y=y, train_sizes=np.linspace(0.1,1.0,10), cv=10, n_jobs=-1, random_state=42)\n",
    "    train_mean = np.mean(train_scores, axis = 1)\n",
    "    train_std = np.std(train_scores, axis = 1)\n",
    "    test_mean = np.mean(test_scores, axis = 1)\n",
    "    test_std = np.std(test_scores, axis = 1)\n",
    "    plt.plot(train_sizes, train_mean, color='blue', marker = 'o', markersize = 5, label = 'training accuracy')\n",
    "    plt.fill_between(train_sizes, train_mean + train_std, train_mean - train_std, alpha = 0.15, color = 'blue')\n",
    "    plt.plot(train_sizes, test_mean, color='green', linestyle='--',marker = 's', markersize = 5, label = 'validation accuracy')\n",
    "    plt.fill_between(train_sizes, test_mean + test_std, test_mean - test_std, alpha = 0.15, color = 'green')\n",
    "    plt.grid()\n",
    "    plt.legend(loc='lower right')\n",
    "    plt.xlabel('Number of training samples')\n",
    "    plt.ylabel('Accuracy')"
   ]
  }
 ],
 "metadata": {
  "kernelspec": {
   "display_name": "Python 3",
   "language": "python",
   "name": "python3"
  },
  "language_info": {
   "codemirror_mode": {
    "name": "ipython",
    "version": 3
   },
   "file_extension": ".py",
   "mimetype": "text/x-python",
   "name": "python",
   "nbconvert_exporter": "python",
   "pygments_lexer": "ipython3",
   "version": "3.6.5"
  }
 },
 "nbformat": 4,
 "nbformat_minor": 2
}
