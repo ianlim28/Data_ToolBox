{
 "cells": [
  {
   "cell_type": "markdown",
   "metadata": {},
   "source": [
    "# Column Transformer\n",
    "\n",
    "Theres a great deal of transformation that needs to be performed before we can feed the data to our models. Scikit Learn's Column transformer streamlines the process and makes it easier to deal with datasets that contains both numerical and categorical data."
   ]
  },
  {
   "cell_type": "code",
   "execution_count": 37,
   "metadata": {},
   "outputs": [],
   "source": [
    "import pandas as pd\n",
    "import numpy as np\n",
    "from sklearn.compose import make_column_transformer, ColumnTransformer\n",
    "from sklearn.preprocessing import OneHotEncoder\n",
    "from sklearn.preprocessing import StandardScaler\n",
    "from sklearn.pipeline import make_pipeline\n",
    "from sklearn.linear_model import Ridge\n",
    "from sklearn.model_selection import train_test_split, GridSearchCV\n",
    "import matplotlib.pyplot as plt\n",
    "import warnings\n",
    "warnings.filterwarnings(\"ignore\")"
   ]
  },
  {
   "cell_type": "code",
   "execution_count": 3,
   "metadata": {},
   "outputs": [],
   "source": [
    "url = 'https://raw.githubusercontent.com/amueller/ml-training-advanced/master/notebooks/data/bike_day_raw.csv'\n",
    "bike = pd.read_csv(url)"
   ]
  },
  {
   "cell_type": "code",
   "execution_count": 4,
   "metadata": {},
   "outputs": [
    {
     "data": {
      "text/plain": [
       "season          int64\n",
       "mnth            int64\n",
       "holiday         int64\n",
       "weekday         int64\n",
       "workingday      int64\n",
       "weathersit      int64\n",
       "temp          float64\n",
       "atemp         float64\n",
       "hum           float64\n",
       "windspeed     float64\n",
       "cnt             int64\n",
       "dtype: object"
      ]
     },
     "execution_count": 4,
     "metadata": {},
     "output_type": "execute_result"
    }
   ],
   "source": [
    "bike.dtypes"
   ]
  },
  {
   "cell_type": "code",
   "execution_count": 47,
   "metadata": {},
   "outputs": [
    {
     "data": {
      "text/plain": [
       "Index(['season', 'mnth', 'holiday', 'weekday', 'workingday', 'weathersit'], dtype='object')"
      ]
     },
     "execution_count": 47,
     "metadata": {},
     "output_type": "execute_result"
    }
   ],
   "source": [
    "bike_data = bike.drop('cnt', axis =1)\n",
    "\n",
    "# Getting the categorical feature names\n",
    "cat_features = bike.columns[:6]\n",
    "cat_features"
   ]
  },
  {
   "cell_type": "code",
   "execution_count": 7,
   "metadata": {},
   "outputs": [
    {
     "data": {
      "text/html": [
       "<div>\n",
       "<style scoped>\n",
       "    .dataframe tbody tr th:only-of-type {\n",
       "        vertical-align: middle;\n",
       "    }\n",
       "\n",
       "    .dataframe tbody tr th {\n",
       "        vertical-align: top;\n",
       "    }\n",
       "\n",
       "    .dataframe thead th {\n",
       "        text-align: right;\n",
       "    }\n",
       "</style>\n",
       "<table border=\"1\" class=\"dataframe\">\n",
       "  <thead>\n",
       "    <tr style=\"text-align: right;\">\n",
       "      <th></th>\n",
       "      <th>season</th>\n",
       "      <th>mnth</th>\n",
       "      <th>holiday</th>\n",
       "      <th>weekday</th>\n",
       "      <th>workingday</th>\n",
       "      <th>weathersit</th>\n",
       "      <th>temp</th>\n",
       "      <th>atemp</th>\n",
       "      <th>hum</th>\n",
       "      <th>windspeed</th>\n",
       "    </tr>\n",
       "  </thead>\n",
       "  <tbody>\n",
       "    <tr>\n",
       "      <th>0</th>\n",
       "      <td>1</td>\n",
       "      <td>1</td>\n",
       "      <td>0</td>\n",
       "      <td>6</td>\n",
       "      <td>0</td>\n",
       "      <td>2</td>\n",
       "      <td>0.344167</td>\n",
       "      <td>0.363625</td>\n",
       "      <td>0.805833</td>\n",
       "      <td>0.160446</td>\n",
       "    </tr>\n",
       "    <tr>\n",
       "      <th>1</th>\n",
       "      <td>1</td>\n",
       "      <td>1</td>\n",
       "      <td>0</td>\n",
       "      <td>0</td>\n",
       "      <td>0</td>\n",
       "      <td>2</td>\n",
       "      <td>0.363478</td>\n",
       "      <td>0.353739</td>\n",
       "      <td>0.696087</td>\n",
       "      <td>0.248539</td>\n",
       "    </tr>\n",
       "    <tr>\n",
       "      <th>2</th>\n",
       "      <td>1</td>\n",
       "      <td>1</td>\n",
       "      <td>0</td>\n",
       "      <td>1</td>\n",
       "      <td>1</td>\n",
       "      <td>1</td>\n",
       "      <td>0.196364</td>\n",
       "      <td>0.189405</td>\n",
       "      <td>0.437273</td>\n",
       "      <td>0.248309</td>\n",
       "    </tr>\n",
       "    <tr>\n",
       "      <th>3</th>\n",
       "      <td>1</td>\n",
       "      <td>1</td>\n",
       "      <td>0</td>\n",
       "      <td>2</td>\n",
       "      <td>1</td>\n",
       "      <td>1</td>\n",
       "      <td>0.200000</td>\n",
       "      <td>0.212122</td>\n",
       "      <td>0.590435</td>\n",
       "      <td>0.160296</td>\n",
       "    </tr>\n",
       "    <tr>\n",
       "      <th>4</th>\n",
       "      <td>1</td>\n",
       "      <td>1</td>\n",
       "      <td>0</td>\n",
       "      <td>3</td>\n",
       "      <td>1</td>\n",
       "      <td>1</td>\n",
       "      <td>0.226957</td>\n",
       "      <td>0.229270</td>\n",
       "      <td>0.436957</td>\n",
       "      <td>0.186900</td>\n",
       "    </tr>\n",
       "  </tbody>\n",
       "</table>\n",
       "</div>"
      ],
      "text/plain": [
       "   season  mnth  holiday  weekday  workingday  weathersit      temp     atemp  \\\n",
       "0       1     1        0        6           0           2  0.344167  0.363625   \n",
       "1       1     1        0        0           0           2  0.363478  0.353739   \n",
       "2       1     1        0        1           1           1  0.196364  0.189405   \n",
       "3       1     1        0        2           1           1  0.200000  0.212122   \n",
       "4       1     1        0        3           1           1  0.226957  0.229270   \n",
       "\n",
       "        hum  windspeed  \n",
       "0  0.805833   0.160446  \n",
       "1  0.696087   0.248539  \n",
       "2  0.437273   0.248309  \n",
       "3  0.590435   0.160296  \n",
       "4  0.436957   0.186900  "
      ]
     },
     "execution_count": 7,
     "metadata": {},
     "output_type": "execute_result"
    }
   ],
   "source": [
    "bike_data.head()"
   ]
  },
  {
   "cell_type": "markdown",
   "metadata": {},
   "source": [
    "**make_column_transformer** allows us to split and decided what we want to do to both numerical and categorical"
   ]
  },
  {
   "cell_type": "code",
   "execution_count": 55,
   "metadata": {},
   "outputs": [],
   "source": [
    "# performing transformation on both numerical and categorical\n",
    "ct = make_column_transformer((OneHotEncoder(sparse=False), cat_features),\n",
    "                             (StandardScaler(), [6,7,8,9]))\n",
    "\n",
    "# if you don't want to do anything to the numerical columns and want to keep them as it is\n",
    "ct = make_column_transformer((OneHotEncoder(sparse=False), cat_features),\n",
    "                             remainder = 'passthrough')\n"
   ]
  },
  {
   "cell_type": "markdown",
   "metadata": {},
   "source": [
    "To show what transformer was used on what column.\n",
    "\n",
    "    * onehotencoder was performed on ['season', 'mnth', 'holiday', 'weekday', 'workingday', 'weathersit']\n",
    "    * remainder is basically whats remaining, which is our numerical column"
   ]
  },
  {
   "cell_type": "code",
   "execution_count": 56,
   "metadata": {},
   "outputs": [
    {
     "data": {
      "text/plain": [
       "[('onehotencoder', OneHotEncoder(categorical_features=None, categories=None,\n",
       "         dtype=<class 'numpy.float64'>, handle_unknown='error',\n",
       "         n_values=None, sparse=False), Index(['season', 'mnth', 'holiday', 'weekday', 'workingday', 'weathersit'], dtype='object')),\n",
       " ('remainder', 'passthrough', [6, 7, 8, 9])]"
      ]
     },
     "execution_count": 56,
     "metadata": {},
     "output_type": "execute_result"
    }
   ],
   "source": [
    "ct.fit(bike_data)\n",
    "ct.transformers_"
   ]
  },
  {
   "cell_type": "code",
   "execution_count": 57,
   "metadata": {},
   "outputs": [
    {
     "data": {
      "text/plain": [
       "(731, 34)"
      ]
     },
     "execution_count": 57,
     "metadata": {},
     "output_type": "execute_result"
    }
   ],
   "source": [
    "ct.transform(bike_data).shape"
   ]
  },
  {
   "cell_type": "markdown",
   "metadata": {},
   "source": [
    "If you want to use ColumnTransformer...the main difference between *ColumnTransformer* & *make_column_transformer* is that you need to give the process a name for the former"
   ]
  },
  {
   "cell_type": "code",
   "execution_count": null,
   "metadata": {},
   "outputs": [],
   "source": [
    "# if you don't want to use the remainder feature\n",
    "ColumnTransformer([('ohe', OneHotEncoder(sparse=False), cat_features),\n",
    "                   ('scaler', StandardScaler(), [6,7,8,9])])"
   ]
  },
  {
   "cell_type": "code",
   "execution_count": 24,
   "metadata": {},
   "outputs": [],
   "source": [
    "ct = make_column_transformer((OneHotEncoder(sparse=False), cat_features),\n",
    "                             remainder=StandardScaler())\n",
    "ohe_pipe = make_pipeline(ct, Ridge())"
   ]
  },
  {
   "cell_type": "code",
   "execution_count": 26,
   "metadata": {},
   "outputs": [
    {
     "data": {
      "text/plain": [
       "<matplotlib.axes._subplots.AxesSubplot at 0xbdc34e0>"
      ]
     },
     "execution_count": 26,
     "metadata": {},
     "output_type": "execute_result"
    },
    {
     "data": {
      "image/png": "[encoded data removed]",
      "text/plain": [
       "<Figure size 432x288 with 1 Axes>"
      ]
     },
     "metadata": {},
     "output_type": "display_data"
    }
   ],
   "source": [
    "bike['windspeed'].hist()"
   ]
  },
  {
   "cell_type": "code",
   "execution_count": 29,
   "metadata": {},
   "outputs": [],
   "source": [
    "X_train, X_test, y_train, y_test = train_test_split(bike_data, bike.cnt, random_state=42)"
   ]
  },
  {
   "cell_type": "markdown",
   "metadata": {},
   "source": [
    "**Didn't specify remainder?** No worries, fix it in param grid, and you can even experiment with different preprocessing techniques like MinMaxScaler, RobustScaler, PowerTransformer etc..."
   ]
  },
  {
   "cell_type": "code",
   "execution_count": 58,
   "metadata": {},
   "outputs": [
    {
     "data": {
      "text/plain": [
       "0.544684701658323"
      ]
     },
     "execution_count": 58,
     "metadata": {},
     "output_type": "execute_result"
    }
   ],
   "source": [
    "from sklearn.preprocessing import PowerTransformer\n",
    "\n",
    "ct = make_column_transformer((OneHotEncoder(sparse = False),cat_features))\n",
    "ohe_pipe = make_pipeline(ct, Ridge())\n",
    "\n",
    "param_grid = {'columntransformer__remainder':[StandardScaler(), PowerTransformer(method = 'yeo-johnson')],\n",
    "              'ridge__alpha': np.logspace(-3,2,6)}\n",
    "\n",
    "grid = GridSearchCV(ohe_pipe, param_grid, cv = 5)\n",
    "grid.fit(X_train, y_train)\n",
    "grid.score(X_test, y_test)"
   ]
  },
  {
   "cell_type": "code",
   "execution_count": 59,
   "metadata": {},
   "outputs": [
    {
     "data": {
      "text/plain": [
       "{'columntransformer__remainder': StandardScaler(copy=True, with_mean=True, with_std=True),\n",
       " 'ridge__alpha': 10.0}"
      ]
     },
     "execution_count": 59,
     "metadata": {},
     "output_type": "execute_result"
    }
   ],
   "source": [
    "grid.best_params_"
   ]
  },
  {
   "cell_type": "code",
   "execution_count": 35,
   "metadata": {
    "scrolled": true
   },
   "outputs": [
    {
     "data": {
      "text/html": [
       "<div>\n",
       "<style scoped>\n",
       "    .dataframe tbody tr th:only-of-type {\n",
       "        vertical-align: middle;\n",
       "    }\n",
       "\n",
       "    .dataframe tbody tr th {\n",
       "        vertical-align: top;\n",
       "    }\n",
       "\n",
       "    .dataframe thead th {\n",
       "        text-align: right;\n",
       "    }\n",
       "</style>\n",
       "<table border=\"1\" class=\"dataframe\">\n",
       "  <thead>\n",
       "    <tr style=\"text-align: right;\">\n",
       "      <th></th>\n",
       "      <th>mean_fit_time</th>\n",
       "      <th>std_fit_time</th>\n",
       "      <th>mean_score_time</th>\n",
       "      <th>std_score_time</th>\n",
       "      <th>param_columntransformer__remainder</th>\n",
       "      <th>param_ridge__alpha</th>\n",
       "      <th>params</th>\n",
       "      <th>split0_test_score</th>\n",
       "      <th>split1_test_score</th>\n",
       "      <th>split2_test_score</th>\n",
       "      <th>...</th>\n",
       "      <th>mean_test_score</th>\n",
       "      <th>std_test_score</th>\n",
       "      <th>rank_test_score</th>\n",
       "      <th>split0_train_score</th>\n",
       "      <th>split1_train_score</th>\n",
       "      <th>split2_train_score</th>\n",
       "      <th>split3_train_score</th>\n",
       "      <th>split4_train_score</th>\n",
       "      <th>mean_train_score</th>\n",
       "      <th>std_train_score</th>\n",
       "    </tr>\n",
       "  </thead>\n",
       "  <tbody>\n",
       "    <tr>\n",
       "      <th>0</th>\n",
       "      <td>0.009801</td>\n",
       "      <td>0.003250</td>\n",
       "      <td>0.0042</td>\n",
       "      <td>1.166294e-03</td>\n",
       "      <td>StandardScaler(copy=True, with_mean=True, with...</td>\n",
       "      <td>0.001</td>\n",
       "      <td>{'columntransformer__remainder': StandardScale...</td>\n",
       "      <td>0.523292</td>\n",
       "      <td>0.530999</td>\n",
       "      <td>0.610672</td>\n",
       "      <td>...</td>\n",
       "      <td>0.522892</td>\n",
       "      <td>0.067793</td>\n",
       "      <td>6</td>\n",
       "      <td>0.599843</td>\n",
       "      <td>0.599046</td>\n",
       "      <td>0.576809</td>\n",
       "      <td>0.619540</td>\n",
       "      <td>0.594319</td>\n",
       "      <td>0.597911</td>\n",
       "      <td>0.013646</td>\n",
       "    </tr>\n",
       "    <tr>\n",
       "      <th>1</th>\n",
       "      <td>0.007400</td>\n",
       "      <td>0.000490</td>\n",
       "      <td>0.0038</td>\n",
       "      <td>4.000425e-04</td>\n",
       "      <td>StandardScaler(copy=True, with_mean=True, with...</td>\n",
       "      <td>0.01</td>\n",
       "      <td>{'columntransformer__remainder': StandardScale...</td>\n",
       "      <td>0.523306</td>\n",
       "      <td>0.531043</td>\n",
       "      <td>0.610661</td>\n",
       "      <td>...</td>\n",
       "      <td>0.522921</td>\n",
       "      <td>0.067770</td>\n",
       "      <td>5</td>\n",
       "      <td>0.599843</td>\n",
       "      <td>0.599045</td>\n",
       "      <td>0.576808</td>\n",
       "      <td>0.619540</td>\n",
       "      <td>0.594319</td>\n",
       "      <td>0.597911</td>\n",
       "      <td>0.013646</td>\n",
       "    </tr>\n",
       "    <tr>\n",
       "      <th>2</th>\n",
       "      <td>0.007600</td>\n",
       "      <td>0.001200</td>\n",
       "      <td>0.0038</td>\n",
       "      <td>7.483792e-04</td>\n",
       "      <td>StandardScaler(copy=True, with_mean=True, with...</td>\n",
       "      <td>0.1</td>\n",
       "      <td>{'columntransformer__remainder': StandardScale...</td>\n",
       "      <td>0.523435</td>\n",
       "      <td>0.531467</td>\n",
       "      <td>0.610539</td>\n",
       "      <td>...</td>\n",
       "      <td>0.523194</td>\n",
       "      <td>0.067540</td>\n",
       "      <td>4</td>\n",
       "      <td>0.599838</td>\n",
       "      <td>0.599040</td>\n",
       "      <td>0.576803</td>\n",
       "      <td>0.619534</td>\n",
       "      <td>0.594316</td>\n",
       "      <td>0.597906</td>\n",
       "      <td>0.013646</td>\n",
       "    </tr>\n",
       "    <tr>\n",
       "      <th>3</th>\n",
       "      <td>0.007600</td>\n",
       "      <td>0.000490</td>\n",
       "      <td>0.0042</td>\n",
       "      <td>4.000425e-04</td>\n",
       "      <td>StandardScaler(copy=True, with_mean=True, with...</td>\n",
       "      <td>1</td>\n",
       "      <td>{'columntransformer__remainder': StandardScale...</td>\n",
       "      <td>0.524062</td>\n",
       "      <td>0.534835</td>\n",
       "      <td>0.608799</td>\n",
       "      <td>...</td>\n",
       "      <td>0.525206</td>\n",
       "      <td>0.065591</td>\n",
       "      <td>2</td>\n",
       "      <td>0.599506</td>\n",
       "      <td>0.598696</td>\n",
       "      <td>0.576529</td>\n",
       "      <td>0.619153</td>\n",
       "      <td>0.594088</td>\n",
       "      <td>0.597594</td>\n",
       "      <td>0.013607</td>\n",
       "    </tr>\n",
       "    <tr>\n",
       "      <th>4</th>\n",
       "      <td>0.008000</td>\n",
       "      <td>0.001265</td>\n",
       "      <td>0.0040</td>\n",
       "      <td>1.907349e-07</td>\n",
       "      <td>StandardScaler(copy=True, with_mean=True, with...</td>\n",
       "      <td>10</td>\n",
       "      <td>{'columntransformer__remainder': StandardScale...</td>\n",
       "      <td>0.515989</td>\n",
       "      <td>0.550924</td>\n",
       "      <td>0.594814</td>\n",
       "      <td>...</td>\n",
       "      <td>0.530660</td>\n",
       "      <td>0.058986</td>\n",
       "      <td>1</td>\n",
       "      <td>0.592839</td>\n",
       "      <td>0.591406</td>\n",
       "      <td>0.571334</td>\n",
       "      <td>0.611243</td>\n",
       "      <td>0.587161</td>\n",
       "      <td>0.590797</td>\n",
       "      <td>0.012764</td>\n",
       "    </tr>\n",
       "    <tr>\n",
       "      <th>5</th>\n",
       "      <td>0.007400</td>\n",
       "      <td>0.000490</td>\n",
       "      <td>0.0046</td>\n",
       "      <td>8.000732e-04</td>\n",
       "      <td>StandardScaler(copy=True, with_mean=True, with...</td>\n",
       "      <td>100</td>\n",
       "      <td>{'columntransformer__remainder': StandardScale...</td>\n",
       "      <td>0.451963</td>\n",
       "      <td>0.547740</td>\n",
       "      <td>0.538225</td>\n",
       "      <td>...</td>\n",
       "      <td>0.502751</td>\n",
       "      <td>0.054725</td>\n",
       "      <td>11</td>\n",
       "      <td>0.545223</td>\n",
       "      <td>0.530410</td>\n",
       "      <td>0.523032</td>\n",
       "      <td>0.555750</td>\n",
       "      <td>0.525751</td>\n",
       "      <td>0.536033</td>\n",
       "      <td>0.012487</td>\n",
       "    </tr>\n",
       "    <tr>\n",
       "      <th>6</th>\n",
       "      <td>0.019001</td>\n",
       "      <td>0.002281</td>\n",
       "      <td>0.0042</td>\n",
       "      <td>4.000426e-04</td>\n",
       "      <td>PowerTransformer(copy=True, method='yeo-johnso...</td>\n",
       "      <td>0.001</td>\n",
       "      <td>{'columntransformer__remainder': PowerTransfor...</td>\n",
       "      <td>0.516199</td>\n",
       "      <td>0.532617</td>\n",
       "      <td>0.595314</td>\n",
       "      <td>...</td>\n",
       "      <td>0.515880</td>\n",
       "      <td>0.066711</td>\n",
       "      <td>10</td>\n",
       "      <td>0.595318</td>\n",
       "      <td>0.591647</td>\n",
       "      <td>0.575576</td>\n",
       "      <td>0.618014</td>\n",
       "      <td>0.589681</td>\n",
       "      <td>0.594047</td>\n",
       "      <td>0.013726</td>\n",
       "    </tr>\n",
       "    <tr>\n",
       "      <th>7</th>\n",
       "      <td>0.017601</td>\n",
       "      <td>0.001744</td>\n",
       "      <td>0.0042</td>\n",
       "      <td>4.001856e-04</td>\n",
       "      <td>PowerTransformer(copy=True, method='yeo-johnso...</td>\n",
       "      <td>0.01</td>\n",
       "      <td>{'columntransformer__remainder': PowerTransfor...</td>\n",
       "      <td>0.516204</td>\n",
       "      <td>0.532670</td>\n",
       "      <td>0.595368</td>\n",
       "      <td>...</td>\n",
       "      <td>0.515911</td>\n",
       "      <td>0.066730</td>\n",
       "      <td>9</td>\n",
       "      <td>0.595318</td>\n",
       "      <td>0.591646</td>\n",
       "      <td>0.575576</td>\n",
       "      <td>0.618013</td>\n",
       "      <td>0.589680</td>\n",
       "      <td>0.594047</td>\n",
       "      <td>0.013726</td>\n",
       "    </tr>\n",
       "    <tr>\n",
       "      <th>8</th>\n",
       "      <td>0.018001</td>\n",
       "      <td>0.001673</td>\n",
       "      <td>0.0044</td>\n",
       "      <td>4.900766e-04</td>\n",
       "      <td>PowerTransformer(copy=True, method='yeo-johnso...</td>\n",
       "      <td>0.1</td>\n",
       "      <td>{'columntransformer__remainder': PowerTransfor...</td>\n",
       "      <td>0.516240</td>\n",
       "      <td>0.533174</td>\n",
       "      <td>0.595828</td>\n",
       "      <td>...</td>\n",
       "      <td>0.516198</td>\n",
       "      <td>0.066893</td>\n",
       "      <td>8</td>\n",
       "      <td>0.595303</td>\n",
       "      <td>0.591632</td>\n",
       "      <td>0.575550</td>\n",
       "      <td>0.618002</td>\n",
       "      <td>0.589662</td>\n",
       "      <td>0.594030</td>\n",
       "      <td>0.013731</td>\n",
       "    </tr>\n",
       "    <tr>\n",
       "      <th>9</th>\n",
       "      <td>0.020201</td>\n",
       "      <td>0.006400</td>\n",
       "      <td>0.0044</td>\n",
       "      <td>4.899208e-04</td>\n",
       "      <td>PowerTransformer(copy=True, method='yeo-johnso...</td>\n",
       "      <td>1</td>\n",
       "      <td>{'columntransformer__remainder': PowerTransfor...</td>\n",
       "      <td>0.516252</td>\n",
       "      <td>0.536836</td>\n",
       "      <td>0.596867</td>\n",
       "      <td>...</td>\n",
       "      <td>0.518048</td>\n",
       "      <td>0.066991</td>\n",
       "      <td>7</td>\n",
       "      <td>0.594693</td>\n",
       "      <td>0.591016</td>\n",
       "      <td>0.574621</td>\n",
       "      <td>0.617461</td>\n",
       "      <td>0.588984</td>\n",
       "      <td>0.593355</td>\n",
       "      <td>0.013845</td>\n",
       "    </tr>\n",
       "    <tr>\n",
       "      <th>10</th>\n",
       "      <td>0.018001</td>\n",
       "      <td>0.001549</td>\n",
       "      <td>0.0042</td>\n",
       "      <td>3.999710e-04</td>\n",
       "      <td>PowerTransformer(copy=True, method='yeo-johnso...</td>\n",
       "      <td>10</td>\n",
       "      <td>{'columntransformer__remainder': PowerTransfor...</td>\n",
       "      <td>0.508169</td>\n",
       "      <td>0.552921</td>\n",
       "      <td>0.585454</td>\n",
       "      <td>...</td>\n",
       "      <td>0.523341</td>\n",
       "      <td>0.062885</td>\n",
       "      <td>3</td>\n",
       "      <td>0.587430</td>\n",
       "      <td>0.583038</td>\n",
       "      <td>0.567894</td>\n",
       "      <td>0.609430</td>\n",
       "      <td>0.581086</td>\n",
       "      <td>0.585776</td>\n",
       "      <td>0.013502</td>\n",
       "    </tr>\n",
       "    <tr>\n",
       "      <th>11</th>\n",
       "      <td>0.018801</td>\n",
       "      <td>0.001470</td>\n",
       "      <td>0.0046</td>\n",
       "      <td>4.899014e-04</td>\n",
       "      <td>PowerTransformer(copy=True, method='yeo-johnso...</td>\n",
       "      <td>100</td>\n",
       "      <td>{'columntransformer__remainder': PowerTransfor...</td>\n",
       "      <td>0.442441</td>\n",
       "      <td>0.545727</td>\n",
       "      <td>0.528838</td>\n",
       "      <td>...</td>\n",
       "      <td>0.494720</td>\n",
       "      <td>0.057799</td>\n",
       "      <td>12</td>\n",
       "      <td>0.538043</td>\n",
       "      <td>0.520629</td>\n",
       "      <td>0.518501</td>\n",
       "      <td>0.553290</td>\n",
       "      <td>0.517759</td>\n",
       "      <td>0.529644</td>\n",
       "      <td>0.013974</td>\n",
       "    </tr>\n",
       "  </tbody>\n",
       "</table>\n",
       "<p>12 rows × 22 columns</p>\n",
       "</div>"
      ],
      "text/plain": [
       "    mean_fit_time  std_fit_time  mean_score_time  std_score_time  \\\n",
       "0        0.009801      0.003250           0.0042    1.166294e-03   \n",
       "1        0.007400      0.000490           0.0038    4.000425e-04   \n",
       "2        0.007600      0.001200           0.0038    7.483792e-04   \n",
       "3        0.007600      0.000490           0.0042    4.000425e-04   \n",
       "4        0.008000      0.001265           0.0040    1.907349e-07   \n",
       "5        0.007400      0.000490           0.0046    8.000732e-04   \n",
       "6        0.019001      0.002281           0.0042    4.000426e-04   \n",
       "7        0.017601      0.001744           0.0042    4.001856e-04   \n",
       "8        0.018001      0.001673           0.0044    4.900766e-04   \n",
       "9        0.020201      0.006400           0.0044    4.899208e-04   \n",
       "10       0.018001      0.001549           0.0042    3.999710e-04   \n",
       "11       0.018801      0.001470           0.0046    4.899014e-04   \n",
       "\n",
       "                   param_columntransformer__remainder param_ridge__alpha  \\\n",
       "0   StandardScaler(copy=True, with_mean=True, with...              0.001   \n",
       "1   StandardScaler(copy=True, with_mean=True, with...               0.01   \n",
       "2   StandardScaler(copy=True, with_mean=True, with...                0.1   \n",
       "3   StandardScaler(copy=True, with_mean=True, with...                  1   \n",
       "4   StandardScaler(copy=True, with_mean=True, with...                 10   \n",
       "5   StandardScaler(copy=True, with_mean=True, with...                100   \n",
       "6   PowerTransformer(copy=True, method='yeo-johnso...              0.001   \n",
       "7   PowerTransformer(copy=True, method='yeo-johnso...               0.01   \n",
       "8   PowerTransformer(copy=True, method='yeo-johnso...                0.1   \n",
       "9   PowerTransformer(copy=True, method='yeo-johnso...                  1   \n",
       "10  PowerTransformer(copy=True, method='yeo-johnso...                 10   \n",
       "11  PowerTransformer(copy=True, method='yeo-johnso...                100   \n",
       "\n",
       "                                               params  split0_test_score  \\\n",
       "0   {'columntransformer__remainder': StandardScale...           0.523292   \n",
       "1   {'columntransformer__remainder': StandardScale...           0.523306   \n",
       "2   {'columntransformer__remainder': StandardScale...           0.523435   \n",
       "3   {'columntransformer__remainder': StandardScale...           0.524062   \n",
       "4   {'columntransformer__remainder': StandardScale...           0.515989   \n",
       "5   {'columntransformer__remainder': StandardScale...           0.451963   \n",
       "6   {'columntransformer__remainder': PowerTransfor...           0.516199   \n",
       "7   {'columntransformer__remainder': PowerTransfor...           0.516204   \n",
       "8   {'columntransformer__remainder': PowerTransfor...           0.516240   \n",
       "9   {'columntransformer__remainder': PowerTransfor...           0.516252   \n",
       "10  {'columntransformer__remainder': PowerTransfor...           0.508169   \n",
       "11  {'columntransformer__remainder': PowerTransfor...           0.442441   \n",
       "\n",
       "    split1_test_score  split2_test_score       ...         mean_test_score  \\\n",
       "0            0.530999           0.610672       ...                0.522892   \n",
       "1            0.531043           0.610661       ...                0.522921   \n",
       "2            0.531467           0.610539       ...                0.523194   \n",
       "3            0.534835           0.608799       ...                0.525206   \n",
       "4            0.550924           0.594814       ...                0.530660   \n",
       "5            0.547740           0.538225       ...                0.502751   \n",
       "6            0.532617           0.595314       ...                0.515880   \n",
       "7            0.532670           0.595368       ...                0.515911   \n",
       "8            0.533174           0.595828       ...                0.516198   \n",
       "9            0.536836           0.596867       ...                0.518048   \n",
       "10           0.552921           0.585454       ...                0.523341   \n",
       "11           0.545727           0.528838       ...                0.494720   \n",
       "\n",
       "    std_test_score  rank_test_score  split0_train_score  split1_train_score  \\\n",
       "0         0.067793                6            0.599843            0.599046   \n",
       "1         0.067770                5            0.599843            0.599045   \n",
       "2         0.067540                4            0.599838            0.599040   \n",
       "3         0.065591                2            0.599506            0.598696   \n",
       "4         0.058986                1            0.592839            0.591406   \n",
       "5         0.054725               11            0.545223            0.530410   \n",
       "6         0.066711               10            0.595318            0.591647   \n",
       "7         0.066730                9            0.595318            0.591646   \n",
       "8         0.066893                8            0.595303            0.591632   \n",
       "9         0.066991                7            0.594693            0.591016   \n",
       "10        0.062885                3            0.587430            0.583038   \n",
       "11        0.057799               12            0.538043            0.520629   \n",
       "\n",
       "    split2_train_score  split3_train_score  split4_train_score  \\\n",
       "0             0.576809            0.619540            0.594319   \n",
       "1             0.576808            0.619540            0.594319   \n",
       "2             0.576803            0.619534            0.594316   \n",
       "3             0.576529            0.619153            0.594088   \n",
       "4             0.571334            0.611243            0.587161   \n",
       "5             0.523032            0.555750            0.525751   \n",
       "6             0.575576            0.618014            0.589681   \n",
       "7             0.575576            0.618013            0.589680   \n",
       "8             0.575550            0.618002            0.589662   \n",
       "9             0.574621            0.617461            0.588984   \n",
       "10            0.567894            0.609430            0.581086   \n",
       "11            0.518501            0.553290            0.517759   \n",
       "\n",
       "    mean_train_score  std_train_score  \n",
       "0           0.597911         0.013646  \n",
       "1           0.597911         0.013646  \n",
       "2           0.597906         0.013646  \n",
       "3           0.597594         0.013607  \n",
       "4           0.590797         0.012764  \n",
       "5           0.536033         0.012487  \n",
       "6           0.594047         0.013726  \n",
       "7           0.594047         0.013726  \n",
       "8           0.594030         0.013731  \n",
       "9           0.593355         0.013845  \n",
       "10          0.585776         0.013502  \n",
       "11          0.529644         0.013974  \n",
       "\n",
       "[12 rows x 22 columns]"
      ]
     },
     "execution_count": 35,
     "metadata": {},
     "output_type": "execute_result"
    }
   ],
   "source": [
    "res = pd.DataFrame(grid.cv_results_)\n",
    "res"
   ]
  },
  {
   "cell_type": "code",
   "execution_count": 60,
   "metadata": {},
   "outputs": [
    {
     "data": {
      "text/plain": [
       "<matplotlib.legend.Legend at 0xbf87320>"
      ]
     },
     "execution_count": 60,
     "metadata": {},
     "output_type": "execute_result"
    },
    {
     "data": {
      "image/png": "[encoded data removed]",
      "text/plain": [
       "<Figure size 432x288 with 1 Axes>"
      ]
     },
     "metadata": {},
     "output_type": "display_data"
    }
   ],
   "source": [
    "plt.plot(res.mean_test_score[:6].values, label=\"StandardScaler\")\n",
    "plt.plot(res.mean_test_score[6:].values, label=\"PowerTransformer\")\n",
    "plt.legend()"
   ]
  }
 ],
 "metadata": {
  "kernelspec": {
   "display_name": "Python 3",
   "language": "python",
   "name": "python3"
  },
  "language_info": {
   "codemirror_mode": {
    "name": "ipython",
    "version": 3
   },
   "file_extension": ".py",
   "mimetype": "text/x-python",
   "name": "python",
   "nbconvert_exporter": "python",
   "pygments_lexer": "ipython3",
   "version": "3.6.5"
  }
 },
 "nbformat": 4,
 "nbformat_minor": 2
}
