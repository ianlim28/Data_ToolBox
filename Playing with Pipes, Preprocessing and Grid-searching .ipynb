{
 "cells": [
  {
   "cell_type": "code",
   "execution_count": 1,
   "metadata": {},
   "outputs": [],
   "source": [
    "from sklearn.datasets import load_boston, load_breast_cancer\n",
    "import pandas as pd\n",
    "import numpy as np\n",
    "import matplotlib.pyplot as plt\n",
    "boston = load_boston()"
   ]
  },
  {
   "cell_type": "code",
   "execution_count": 2,
   "metadata": {},
   "outputs": [],
   "source": [
    "bos = pd.DataFrame(boston.data)\n",
    "bos.columns = boston.feature_names\n",
    "bos['PRICE'] = boston.target"
   ]
  },
  {
   "cell_type": "code",
   "execution_count": 3,
   "metadata": {},
   "outputs": [
    {
     "data": {
      "text/html": [
       "<div>\n",
       "<style scoped>\n",
       "    .dataframe tbody tr th:only-of-type {\n",
       "        vertical-align: middle;\n",
       "    }\n",
       "\n",
       "    .dataframe tbody tr th {\n",
       "        vertical-align: top;\n",
       "    }\n",
       "\n",
       "    .dataframe thead th {\n",
       "        text-align: right;\n",
       "    }\n",
       "</style>\n",
       "<table border=\"1\" class=\"dataframe\">\n",
       "  <thead>\n",
       "    <tr style=\"text-align: right;\">\n",
       "      <th></th>\n",
       "      <th>CRIM</th>\n",
       "      <th>ZN</th>\n",
       "      <th>INDUS</th>\n",
       "      <th>CHAS</th>\n",
       "      <th>NOX</th>\n",
       "      <th>RM</th>\n",
       "      <th>AGE</th>\n",
       "      <th>DIS</th>\n",
       "      <th>RAD</th>\n",
       "      <th>TAX</th>\n",
       "      <th>PTRATIO</th>\n",
       "      <th>B</th>\n",
       "      <th>LSTAT</th>\n",
       "      <th>PRICE</th>\n",
       "    </tr>\n",
       "  </thead>\n",
       "  <tbody>\n",
       "    <tr>\n",
       "      <th>0</th>\n",
       "      <td>0.00632</td>\n",
       "      <td>18.0</td>\n",
       "      <td>2.31</td>\n",
       "      <td>0.0</td>\n",
       "      <td>0.538</td>\n",
       "      <td>6.575</td>\n",
       "      <td>65.2</td>\n",
       "      <td>4.0900</td>\n",
       "      <td>1.0</td>\n",
       "      <td>296.0</td>\n",
       "      <td>15.3</td>\n",
       "      <td>396.90</td>\n",
       "      <td>4.98</td>\n",
       "      <td>24.0</td>\n",
       "    </tr>\n",
       "    <tr>\n",
       "      <th>1</th>\n",
       "      <td>0.02731</td>\n",
       "      <td>0.0</td>\n",
       "      <td>7.07</td>\n",
       "      <td>0.0</td>\n",
       "      <td>0.469</td>\n",
       "      <td>6.421</td>\n",
       "      <td>78.9</td>\n",
       "      <td>4.9671</td>\n",
       "      <td>2.0</td>\n",
       "      <td>242.0</td>\n",
       "      <td>17.8</td>\n",
       "      <td>396.90</td>\n",
       "      <td>9.14</td>\n",
       "      <td>21.6</td>\n",
       "    </tr>\n",
       "    <tr>\n",
       "      <th>2</th>\n",
       "      <td>0.02729</td>\n",
       "      <td>0.0</td>\n",
       "      <td>7.07</td>\n",
       "      <td>0.0</td>\n",
       "      <td>0.469</td>\n",
       "      <td>7.185</td>\n",
       "      <td>61.1</td>\n",
       "      <td>4.9671</td>\n",
       "      <td>2.0</td>\n",
       "      <td>242.0</td>\n",
       "      <td>17.8</td>\n",
       "      <td>392.83</td>\n",
       "      <td>4.03</td>\n",
       "      <td>34.7</td>\n",
       "    </tr>\n",
       "    <tr>\n",
       "      <th>3</th>\n",
       "      <td>0.03237</td>\n",
       "      <td>0.0</td>\n",
       "      <td>2.18</td>\n",
       "      <td>0.0</td>\n",
       "      <td>0.458</td>\n",
       "      <td>6.998</td>\n",
       "      <td>45.8</td>\n",
       "      <td>6.0622</td>\n",
       "      <td>3.0</td>\n",
       "      <td>222.0</td>\n",
       "      <td>18.7</td>\n",
       "      <td>394.63</td>\n",
       "      <td>2.94</td>\n",
       "      <td>33.4</td>\n",
       "    </tr>\n",
       "    <tr>\n",
       "      <th>4</th>\n",
       "      <td>0.06905</td>\n",
       "      <td>0.0</td>\n",
       "      <td>2.18</td>\n",
       "      <td>0.0</td>\n",
       "      <td>0.458</td>\n",
       "      <td>7.147</td>\n",
       "      <td>54.2</td>\n",
       "      <td>6.0622</td>\n",
       "      <td>3.0</td>\n",
       "      <td>222.0</td>\n",
       "      <td>18.7</td>\n",
       "      <td>396.90</td>\n",
       "      <td>5.33</td>\n",
       "      <td>36.2</td>\n",
       "    </tr>\n",
       "  </tbody>\n",
       "</table>\n",
       "</div>"
      ],
      "text/plain": [
       "      CRIM    ZN  INDUS  CHAS    NOX     RM   AGE     DIS  RAD    TAX  \\\n",
       "0  0.00632  18.0   2.31   0.0  0.538  6.575  65.2  4.0900  1.0  296.0   \n",
       "1  0.02731   0.0   7.07   0.0  0.469  6.421  78.9  4.9671  2.0  242.0   \n",
       "2  0.02729   0.0   7.07   0.0  0.469  7.185  61.1  4.9671  2.0  242.0   \n",
       "3  0.03237   0.0   2.18   0.0  0.458  6.998  45.8  6.0622  3.0  222.0   \n",
       "4  0.06905   0.0   2.18   0.0  0.458  7.147  54.2  6.0622  3.0  222.0   \n",
       "\n",
       "   PTRATIO       B  LSTAT  PRICE  \n",
       "0     15.3  396.90   4.98   24.0  \n",
       "1     17.8  396.90   9.14   21.6  \n",
       "2     17.8  392.83   4.03   34.7  \n",
       "3     18.7  394.63   2.94   33.4  \n",
       "4     18.7  396.90   5.33   36.2  "
      ]
     },
     "execution_count": 3,
     "metadata": {},
     "output_type": "execute_result"
    }
   ],
   "source": [
    "bos.head()"
   ]
  },
  {
   "cell_type": "code",
   "execution_count": 4,
   "metadata": {},
   "outputs": [],
   "source": [
    "X = bos.drop('PRICE', axis = 1)\n",
    "y = bos['PRICE']"
   ]
  },
  {
   "cell_type": "code",
   "execution_count": 5,
   "metadata": {},
   "outputs": [],
   "source": [
    "from sklearn.model_selection import train_test_split\n",
    "X_train, X_test, y_train, y_test = train_test_split(X,y, random_state = 42)"
   ]
  },
  {
   "cell_type": "code",
   "execution_count": 6,
   "metadata": {},
   "outputs": [],
   "source": [
    "from sklearn.preprocessing import PolynomialFeatures, MinMaxScaler\n",
    "from sklearn.pipeline import make_pipeline, Pipeline\n",
    "from sklearn.preprocessing import StandardScaler\n",
    "from sklearn.decomposition import PCA\n",
    "pipe = make_pipeline(StandardScaler(),\n",
    "                     PCA(n_components = 2))"
   ]
  },
  {
   "cell_type": "markdown",
   "metadata": {},
   "source": [
    "## Accessing the attributes of the pipeline steps"
   ]
  },
  {
   "cell_type": "code",
   "execution_count": 7,
   "metadata": {},
   "outputs": [
    {
     "data": {
      "text/plain": [
       "[('standardscaler', StandardScaler(copy=True, with_mean=True, with_std=True)),\n",
       " ('pca',\n",
       "  PCA(copy=True, iterated_power='auto', n_components=2, random_state=None,\n",
       "    svd_solver='auto', tol=0.0, whiten=False))]"
      ]
     },
     "execution_count": 7,
     "metadata": {},
     "output_type": "execute_result"
    }
   ],
   "source": [
    "pipe.steps"
   ]
  },
  {
   "cell_type": "markdown",
   "metadata": {},
   "source": [
    "## Getting a specific step once you know what you want"
   ]
  },
  {
   "cell_type": "code",
   "execution_count": 8,
   "metadata": {},
   "outputs": [
    {
     "data": {
      "text/plain": [
       "StandardScaler(copy=True, with_mean=True, with_std=True)"
      ]
     },
     "execution_count": 8,
     "metadata": {},
     "output_type": "execute_result"
    }
   ],
   "source": [
    "pipe.named_steps.standardscaler"
   ]
  },
  {
   "cell_type": "markdown",
   "metadata": {},
   "source": [
    "## Parameter Grid, Grid search & pipeline"
   ]
  },
  {
   "cell_type": "code",
   "execution_count": 9,
   "metadata": {},
   "outputs": [],
   "source": [
    "from sklearn.linear_model import LogisticRegression, Ridge, Lasso\n",
    "from sklearn.model_selection import GridSearchCV, RepeatedKFold\n",
    "\n",
    "pipe = make_pipeline(StandardScaler(), \n",
    "                    PolynomialFeatures(),\n",
    "                    Ridge())\n"
   ]
  },
  {
   "cell_type": "code",
   "execution_count": 10,
   "metadata": {},
   "outputs": [
    {
     "data": {
      "text/plain": [
       "GridSearchCV(cv=5, error_score='raise',\n",
       "       estimator=Pipeline(memory=None,\n",
       "     steps=[('standardscaler', StandardScaler(copy=True, with_mean=True, with_std=True)), ('polynomialfeatures', PolynomialFeatures(degree=2, include_bias=True, interaction_only=False)), ('ridge', Ridge(alpha=1.0, copy_X=True, fit_intercept=True, max_iter=None,\n",
       "   normalize=False, random_state=None, solver='auto', tol=0.001))]),\n",
       "       fit_params=None, iid=True, n_jobs=-1,\n",
       "       param_grid={'polynomialfeatures__degree': [1, 2, 3], 'ridge__alpha': [0.01, 0.1, 1, 10, 100]},\n",
       "       pre_dispatch='2*n_jobs', refit=True, return_train_score=True,\n",
       "       scoring=None, verbose=0)"
      ]
     },
     "execution_count": 10,
     "metadata": {},
     "output_type": "execute_result"
    }
   ],
   "source": [
    "param_grid = {'polynomialfeatures__degree':[1,2,3],\n",
    "              'ridge__alpha': [0.01, 0.1, 1, 10, 100]}\n",
    "\n",
    "grid = GridSearchCV(pipe, param_grid = param_grid, cv=5, n_jobs=-1, return_train_score=True)\n",
    "\n",
    "grid.fit(X_train, y_train)"
   ]
  },
  {
   "cell_type": "code",
   "execution_count": 11,
   "metadata": {},
   "outputs": [
    {
     "data": {
      "text/plain": [
       "<matplotlib.colorbar.Colorbar at 0xad86f60>"
      ]
     },
     "execution_count": 11,
     "metadata": {},
     "output_type": "execute_result"
    },
    {
     "data": {
      "image/png": "[encoded data removed]",
      "text/plain": [
       "<Figure size 480x288 with 2 Axes>"
      ]
     },
     "metadata": {},
     "output_type": "display_data"
    }
   ],
   "source": [
    "plt.matshow(grid.cv_results_['mean_test_score'].reshape(3,-1), vmin = 0, cmap='viridis')\n",
    "plt.xlabel('ridge__alpha')\n",
    "plt.ylabel('polynomialfeatures__degree')\n",
    "plt.xticks(range(len(param_grid['ridge__alpha'])), param_grid['ridge__alpha'])\n",
    "plt.yticks(range(len(param_grid['polynomialfeatures__degree'])),\n",
    "param_grid['polynomialfeatures__degree'])\n",
    "plt.colorbar()"
   ]
  },
  {
   "cell_type": "code",
   "execution_count": 12,
   "metadata": {},
   "outputs": [
    {
     "data": {
      "text/html": [
       "<div>\n",
       "<style scoped>\n",
       "    .dataframe tbody tr th:only-of-type {\n",
       "        vertical-align: middle;\n",
       "    }\n",
       "\n",
       "    .dataframe tbody tr th {\n",
       "        vertical-align: top;\n",
       "    }\n",
       "\n",
       "    .dataframe thead th {\n",
       "        text-align: right;\n",
       "    }\n",
       "</style>\n",
       "<table border=\"1\" class=\"dataframe\">\n",
       "  <thead>\n",
       "    <tr style=\"text-align: right;\">\n",
       "      <th></th>\n",
       "      <th>mean_fit_time</th>\n",
       "      <th>std_fit_time</th>\n",
       "      <th>mean_score_time</th>\n",
       "      <th>std_score_time</th>\n",
       "      <th>param_polynomialfeatures__degree</th>\n",
       "      <th>param_ridge__alpha</th>\n",
       "      <th>params</th>\n",
       "      <th>split0_test_score</th>\n",
       "      <th>split1_test_score</th>\n",
       "      <th>split2_test_score</th>\n",
       "      <th>...</th>\n",
       "      <th>mean_test_score</th>\n",
       "      <th>std_test_score</th>\n",
       "      <th>rank_test_score</th>\n",
       "      <th>split0_train_score</th>\n",
       "      <th>split1_train_score</th>\n",
       "      <th>split2_train_score</th>\n",
       "      <th>split3_train_score</th>\n",
       "      <th>split4_train_score</th>\n",
       "      <th>mean_train_score</th>\n",
       "      <th>std_train_score</th>\n",
       "    </tr>\n",
       "  </thead>\n",
       "  <tbody>\n",
       "    <tr>\n",
       "      <th>0</th>\n",
       "      <td>0.028802</td>\n",
       "      <td>0.014498</td>\n",
       "      <td>0.0008</td>\n",
       "      <td>4.000664e-04</td>\n",
       "      <td>1</td>\n",
       "      <td>0.01</td>\n",
       "      <td>{'polynomialfeatures__degree': 1, 'ridge__alph...</td>\n",
       "      <td>0.735227</td>\n",
       "      <td>0.641516</td>\n",
       "      <td>0.764229</td>\n",
       "      <td>...</td>\n",
       "      <td>0.715865</td>\n",
       "      <td>0.053933</td>\n",
       "      <td>10</td>\n",
       "      <td>0.747220</td>\n",
       "      <td>0.768196</td>\n",
       "      <td>0.738330</td>\n",
       "      <td>0.737856</td>\n",
       "      <td>0.761599</td>\n",
       "      <td>0.750640</td>\n",
       "      <td>0.012288</td>\n",
       "    </tr>\n",
       "    <tr>\n",
       "      <th>1</th>\n",
       "      <td>0.044003</td>\n",
       "      <td>0.046988</td>\n",
       "      <td>0.0012</td>\n",
       "      <td>3.999472e-04</td>\n",
       "      <td>1</td>\n",
       "      <td>0.1</td>\n",
       "      <td>{'polynomialfeatures__degree': 1, 'ridge__alph...</td>\n",
       "      <td>0.735240</td>\n",
       "      <td>0.641585</td>\n",
       "      <td>0.764131</td>\n",
       "      <td>...</td>\n",
       "      <td>0.715887</td>\n",
       "      <td>0.053917</td>\n",
       "      <td>9</td>\n",
       "      <td>0.747219</td>\n",
       "      <td>0.768196</td>\n",
       "      <td>0.738329</td>\n",
       "      <td>0.737856</td>\n",
       "      <td>0.761599</td>\n",
       "      <td>0.750640</td>\n",
       "      <td>0.012288</td>\n",
       "    </tr>\n",
       "    <tr>\n",
       "      <th>2</th>\n",
       "      <td>0.010201</td>\n",
       "      <td>0.013906</td>\n",
       "      <td>0.0008</td>\n",
       "      <td>4.000425e-04</td>\n",
       "      <td>1</td>\n",
       "      <td>1</td>\n",
       "      <td>{'polynomialfeatures__degree': 1, 'ridge__alph...</td>\n",
       "      <td>0.735349</td>\n",
       "      <td>0.642259</td>\n",
       "      <td>0.763173</td>\n",
       "      <td>...</td>\n",
       "      <td>0.716077</td>\n",
       "      <td>0.053749</td>\n",
       "      <td>8</td>\n",
       "      <td>0.747194</td>\n",
       "      <td>0.768174</td>\n",
       "      <td>0.738312</td>\n",
       "      <td>0.737822</td>\n",
       "      <td>0.761577</td>\n",
       "      <td>0.750616</td>\n",
       "      <td>0.012290</td>\n",
       "    </tr>\n",
       "    <tr>\n",
       "      <th>3</th>\n",
       "      <td>0.007600</td>\n",
       "      <td>0.005314</td>\n",
       "      <td>0.0010</td>\n",
       "      <td>1.784161e-07</td>\n",
       "      <td>1</td>\n",
       "      <td>10</td>\n",
       "      <td>{'polynomialfeatures__degree': 1, 'ridge__alph...</td>\n",
       "      <td>0.734972</td>\n",
       "      <td>0.648032</td>\n",
       "      <td>0.754987</td>\n",
       "      <td>...</td>\n",
       "      <td>0.716614</td>\n",
       "      <td>0.051797</td>\n",
       "      <td>7</td>\n",
       "      <td>0.745658</td>\n",
       "      <td>0.766747</td>\n",
       "      <td>0.737248</td>\n",
       "      <td>0.735765</td>\n",
       "      <td>0.760175</td>\n",
       "      <td>0.749119</td>\n",
       "      <td>0.012363</td>\n",
       "    </tr>\n",
       "    <tr>\n",
       "      <th>4</th>\n",
       "      <td>0.011801</td>\n",
       "      <td>0.016118</td>\n",
       "      <td>0.0014</td>\n",
       "      <td>4.898235e-04</td>\n",
       "      <td>1</td>\n",
       "      <td>100</td>\n",
       "      <td>{'polynomialfeatures__degree': 1, 'ridge__alph...</td>\n",
       "      <td>0.709015</td>\n",
       "      <td>0.663709</td>\n",
       "      <td>0.710887</td>\n",
       "      <td>...</td>\n",
       "      <td>0.696204</td>\n",
       "      <td>0.036085</td>\n",
       "      <td>11</td>\n",
       "      <td>0.714744</td>\n",
       "      <td>0.734803</td>\n",
       "      <td>0.711696</td>\n",
       "      <td>0.700552</td>\n",
       "      <td>0.729260</td>\n",
       "      <td>0.718211</td>\n",
       "      <td>0.012359</td>\n",
       "    </tr>\n",
       "  </tbody>\n",
       "</table>\n",
       "<p>5 rows × 22 columns</p>\n",
       "</div>"
      ],
      "text/plain": [
       "   mean_fit_time  std_fit_time  mean_score_time  std_score_time  \\\n",
       "0       0.028802      0.014498           0.0008    4.000664e-04   \n",
       "1       0.044003      0.046988           0.0012    3.999472e-04   \n",
       "2       0.010201      0.013906           0.0008    4.000425e-04   \n",
       "3       0.007600      0.005314           0.0010    1.784161e-07   \n",
       "4       0.011801      0.016118           0.0014    4.898235e-04   \n",
       "\n",
       "  param_polynomialfeatures__degree param_ridge__alpha  \\\n",
       "0                                1               0.01   \n",
       "1                                1                0.1   \n",
       "2                                1                  1   \n",
       "3                                1                 10   \n",
       "4                                1                100   \n",
       "\n",
       "                                              params  split0_test_score  \\\n",
       "0  {'polynomialfeatures__degree': 1, 'ridge__alph...           0.735227   \n",
       "1  {'polynomialfeatures__degree': 1, 'ridge__alph...           0.735240   \n",
       "2  {'polynomialfeatures__degree': 1, 'ridge__alph...           0.735349   \n",
       "3  {'polynomialfeatures__degree': 1, 'ridge__alph...           0.734972   \n",
       "4  {'polynomialfeatures__degree': 1, 'ridge__alph...           0.709015   \n",
       "\n",
       "   split1_test_score  split2_test_score       ...         mean_test_score  \\\n",
       "0           0.641516           0.764229       ...                0.715865   \n",
       "1           0.641585           0.764131       ...                0.715887   \n",
       "2           0.642259           0.763173       ...                0.716077   \n",
       "3           0.648032           0.754987       ...                0.716614   \n",
       "4           0.663709           0.710887       ...                0.696204   \n",
       "\n",
       "   std_test_score  rank_test_score  split0_train_score  split1_train_score  \\\n",
       "0        0.053933               10            0.747220            0.768196   \n",
       "1        0.053917                9            0.747219            0.768196   \n",
       "2        0.053749                8            0.747194            0.768174   \n",
       "3        0.051797                7            0.745658            0.766747   \n",
       "4        0.036085               11            0.714744            0.734803   \n",
       "\n",
       "   split2_train_score  split3_train_score  split4_train_score  \\\n",
       "0            0.738330            0.737856            0.761599   \n",
       "1            0.738329            0.737856            0.761599   \n",
       "2            0.738312            0.737822            0.761577   \n",
       "3            0.737248            0.735765            0.760175   \n",
       "4            0.711696            0.700552            0.729260   \n",
       "\n",
       "   mean_train_score  std_train_score  \n",
       "0          0.750640         0.012288  \n",
       "1          0.750640         0.012288  \n",
       "2          0.750616         0.012290  \n",
       "3          0.749119         0.012363  \n",
       "4          0.718211         0.012359  \n",
       "\n",
       "[5 rows x 22 columns]"
      ]
     },
     "execution_count": 12,
     "metadata": {},
     "output_type": "execute_result"
    }
   ],
   "source": [
    "res = pd.DataFrame(grid.cv_results_)\n",
    "res.head()"
   ]
  },
  {
   "cell_type": "code",
   "execution_count": 13,
   "metadata": {},
   "outputs": [],
   "source": [
    "res = pd.pivot_table(res, index = ['param_polynomialfeatures__degree', 'param_ridge__alpha'],\n",
    "                          values = ['mean_train_score', 'mean_test_score'])"
   ]
  },
  {
   "cell_type": "code",
   "execution_count": 14,
   "metadata": {},
   "outputs": [
    {
     "data": {
      "text/html": [
       "<div>\n",
       "<style scoped>\n",
       "    .dataframe tbody tr th:only-of-type {\n",
       "        vertical-align: middle;\n",
       "    }\n",
       "\n",
       "    .dataframe tbody tr th {\n",
       "        vertical-align: top;\n",
       "    }\n",
       "\n",
       "    .dataframe thead th {\n",
       "        text-align: right;\n",
       "    }\n",
       "</style>\n",
       "<table border=\"1\" class=\"dataframe\">\n",
       "  <thead>\n",
       "    <tr style=\"text-align: right;\">\n",
       "      <th></th>\n",
       "      <th></th>\n",
       "      <th>mean_test_score</th>\n",
       "      <th>mean_train_score</th>\n",
       "    </tr>\n",
       "    <tr>\n",
       "      <th>param_polynomialfeatures__degree</th>\n",
       "      <th>param_ridge__alpha</th>\n",
       "      <th></th>\n",
       "      <th></th>\n",
       "    </tr>\n",
       "  </thead>\n",
       "  <tbody>\n",
       "    <tr>\n",
       "      <th rowspan=\"5\" valign=\"top\">1</th>\n",
       "      <th>0.01</th>\n",
       "      <td>0.715865</td>\n",
       "      <td>0.750640</td>\n",
       "    </tr>\n",
       "    <tr>\n",
       "      <th>0.10</th>\n",
       "      <td>0.715887</td>\n",
       "      <td>0.750640</td>\n",
       "    </tr>\n",
       "    <tr>\n",
       "      <th>1.00</th>\n",
       "      <td>0.716077</td>\n",
       "      <td>0.750616</td>\n",
       "    </tr>\n",
       "    <tr>\n",
       "      <th>10.00</th>\n",
       "      <td>0.716614</td>\n",
       "      <td>0.749119</td>\n",
       "    </tr>\n",
       "    <tr>\n",
       "      <th>100.00</th>\n",
       "      <td>0.696204</td>\n",
       "      <td>0.718211</td>\n",
       "    </tr>\n",
       "    <tr>\n",
       "      <th rowspan=\"5\" valign=\"top\">2</th>\n",
       "      <th>0.01</th>\n",
       "      <td>0.795420</td>\n",
       "      <td>0.950486</td>\n",
       "    </tr>\n",
       "    <tr>\n",
       "      <th>0.10</th>\n",
       "      <td>0.801058</td>\n",
       "      <td>0.949999</td>\n",
       "    </tr>\n",
       "    <tr>\n",
       "      <th>1.00</th>\n",
       "      <td>0.821821</td>\n",
       "      <td>0.947219</td>\n",
       "    </tr>\n",
       "    <tr>\n",
       "      <th>10.00</th>\n",
       "      <td>0.861272</td>\n",
       "      <td>0.935169</td>\n",
       "    </tr>\n",
       "    <tr>\n",
       "      <th>100.00</th>\n",
       "      <td>0.830291</td>\n",
       "      <td>0.886561</td>\n",
       "    </tr>\n",
       "    <tr>\n",
       "      <th rowspan=\"5\" valign=\"top\">3</th>\n",
       "      <th>0.01</th>\n",
       "      <td>-6.799137</td>\n",
       "      <td>0.999066</td>\n",
       "    </tr>\n",
       "    <tr>\n",
       "      <th>0.10</th>\n",
       "      <td>-1.047117</td>\n",
       "      <td>0.996400</td>\n",
       "    </tr>\n",
       "    <tr>\n",
       "      <th>1.00</th>\n",
       "      <td>-0.176691</td>\n",
       "      <td>0.989892</td>\n",
       "    </tr>\n",
       "    <tr>\n",
       "      <th>10.00</th>\n",
       "      <td>0.486569</td>\n",
       "      <td>0.976338</td>\n",
       "    </tr>\n",
       "    <tr>\n",
       "      <th>100.00</th>\n",
       "      <td>0.830740</td>\n",
       "      <td>0.950926</td>\n",
       "    </tr>\n",
       "  </tbody>\n",
       "</table>\n",
       "</div>"
      ],
      "text/plain": [
       "                                                     mean_test_score  \\\n",
       "param_polynomialfeatures__degree param_ridge__alpha                    \n",
       "1                                0.01                       0.715865   \n",
       "                                 0.10                       0.715887   \n",
       "                                 1.00                       0.716077   \n",
       "                                 10.00                      0.716614   \n",
       "                                 100.00                     0.696204   \n",
       "2                                0.01                       0.795420   \n",
       "                                 0.10                       0.801058   \n",
       "                                 1.00                       0.821821   \n",
       "                                 10.00                      0.861272   \n",
       "                                 100.00                     0.830291   \n",
       "3                                0.01                      -6.799137   \n",
       "                                 0.10                      -1.047117   \n",
       "                                 1.00                      -0.176691   \n",
       "                                 10.00                      0.486569   \n",
       "                                 100.00                     0.830740   \n",
       "\n",
       "                                                     mean_train_score  \n",
       "param_polynomialfeatures__degree param_ridge__alpha                    \n",
       "1                                0.01                        0.750640  \n",
       "                                 0.10                        0.750640  \n",
       "                                 1.00                        0.750616  \n",
       "                                 10.00                       0.749119  \n",
       "                                 100.00                      0.718211  \n",
       "2                                0.01                        0.950486  \n",
       "                                 0.10                        0.949999  \n",
       "                                 1.00                        0.947219  \n",
       "                                 10.00                       0.935169  \n",
       "                                 100.00                      0.886561  \n",
       "3                                0.01                        0.999066  \n",
       "                                 0.10                        0.996400  \n",
       "                                 1.00                        0.989892  \n",
       "                                 10.00                       0.976338  \n",
       "                                 100.00                      0.950926  "
      ]
     },
     "execution_count": 14,
     "metadata": {},
     "output_type": "execute_result"
    }
   ],
   "source": [
    "res"
   ]
  },
  {
   "cell_type": "code",
   "execution_count": 15,
   "metadata": {},
   "outputs": [
    {
     "data": {
      "text/html": [
       "<div>\n",
       "<style scoped>\n",
       "    .dataframe tbody tr th:only-of-type {\n",
       "        vertical-align: middle;\n",
       "    }\n",
       "\n",
       "    .dataframe tbody tr th {\n",
       "        vertical-align: top;\n",
       "    }\n",
       "\n",
       "    .dataframe thead th {\n",
       "        text-align: right;\n",
       "    }\n",
       "</style>\n",
       "<table border=\"1\" class=\"dataframe\">\n",
       "  <thead>\n",
       "    <tr style=\"text-align: right;\">\n",
       "      <th>param_ridge__alpha</th>\n",
       "      <th>0.01</th>\n",
       "      <th>0.1</th>\n",
       "      <th>1.0</th>\n",
       "      <th>10.0</th>\n",
       "      <th>100.0</th>\n",
       "    </tr>\n",
       "    <tr>\n",
       "      <th>param_polynomialfeatures__degree</th>\n",
       "      <th></th>\n",
       "      <th></th>\n",
       "      <th></th>\n",
       "      <th></th>\n",
       "      <th></th>\n",
       "    </tr>\n",
       "  </thead>\n",
       "  <tbody>\n",
       "    <tr>\n",
       "      <th>1</th>\n",
       "      <td>0.715865</td>\n",
       "      <td>0.715887</td>\n",
       "      <td>0.716077</td>\n",
       "      <td>0.716614</td>\n",
       "      <td>0.696204</td>\n",
       "    </tr>\n",
       "    <tr>\n",
       "      <th>2</th>\n",
       "      <td>0.795420</td>\n",
       "      <td>0.801058</td>\n",
       "      <td>0.821821</td>\n",
       "      <td>0.861272</td>\n",
       "      <td>0.830291</td>\n",
       "    </tr>\n",
       "    <tr>\n",
       "      <th>3</th>\n",
       "      <td>-6.799137</td>\n",
       "      <td>-1.047117</td>\n",
       "      <td>-0.176691</td>\n",
       "      <td>0.486569</td>\n",
       "      <td>0.830740</td>\n",
       "    </tr>\n",
       "  </tbody>\n",
       "</table>\n",
       "</div>"
      ],
      "text/plain": [
       "param_ridge__alpha                  0.01      0.10      1.00      10.00   \\\n",
       "param_polynomialfeatures__degree                                           \n",
       "1                                 0.715865  0.715887  0.716077  0.716614   \n",
       "2                                 0.795420  0.801058  0.821821  0.861272   \n",
       "3                                -6.799137 -1.047117 -0.176691  0.486569   \n",
       "\n",
       "param_ridge__alpha                  100.00  \n",
       "param_polynomialfeatures__degree            \n",
       "1                                 0.696204  \n",
       "2                                 0.830291  \n",
       "3                                 0.830740  "
      ]
     },
     "execution_count": 15,
     "metadata": {},
     "output_type": "execute_result"
    }
   ],
   "source": [
    "res['mean_test_score'].unstack()"
   ]
  },
  {
   "cell_type": "code",
   "execution_count": 16,
   "metadata": {},
   "outputs": [
    {
     "data": {
      "text/html": [
       "<div>\n",
       "<style scoped>\n",
       "    .dataframe tbody tr th:only-of-type {\n",
       "        vertical-align: middle;\n",
       "    }\n",
       "\n",
       "    .dataframe tbody tr th {\n",
       "        vertical-align: top;\n",
       "    }\n",
       "\n",
       "    .dataframe thead th {\n",
       "        text-align: right;\n",
       "    }\n",
       "</style>\n",
       "<table border=\"1\" class=\"dataframe\">\n",
       "  <thead>\n",
       "    <tr style=\"text-align: right;\">\n",
       "      <th>param_ridge__alpha</th>\n",
       "      <th>0.01</th>\n",
       "      <th>0.1</th>\n",
       "      <th>1.0</th>\n",
       "      <th>10.0</th>\n",
       "      <th>100.0</th>\n",
       "    </tr>\n",
       "    <tr>\n",
       "      <th>param_polynomialfeatures__degree</th>\n",
       "      <th></th>\n",
       "      <th></th>\n",
       "      <th></th>\n",
       "      <th></th>\n",
       "      <th></th>\n",
       "    </tr>\n",
       "  </thead>\n",
       "  <tbody>\n",
       "    <tr>\n",
       "      <th>1</th>\n",
       "      <td>0.750640</td>\n",
       "      <td>0.750640</td>\n",
       "      <td>0.750616</td>\n",
       "      <td>0.749119</td>\n",
       "      <td>0.718211</td>\n",
       "    </tr>\n",
       "    <tr>\n",
       "      <th>2</th>\n",
       "      <td>0.950486</td>\n",
       "      <td>0.949999</td>\n",
       "      <td>0.947219</td>\n",
       "      <td>0.935169</td>\n",
       "      <td>0.886561</td>\n",
       "    </tr>\n",
       "    <tr>\n",
       "      <th>3</th>\n",
       "      <td>0.999066</td>\n",
       "      <td>0.996400</td>\n",
       "      <td>0.989892</td>\n",
       "      <td>0.976338</td>\n",
       "      <td>0.950926</td>\n",
       "    </tr>\n",
       "  </tbody>\n",
       "</table>\n",
       "</div>"
      ],
      "text/plain": [
       "param_ridge__alpha                  0.01      0.10      1.00      10.00   \\\n",
       "param_polynomialfeatures__degree                                           \n",
       "1                                 0.750640  0.750640  0.750616  0.749119   \n",
       "2                                 0.950486  0.949999  0.947219  0.935169   \n",
       "3                                 0.999066  0.996400  0.989892  0.976338   \n",
       "\n",
       "param_ridge__alpha                  100.00  \n",
       "param_polynomialfeatures__degree            \n",
       "1                                 0.718211  \n",
       "2                                 0.886561  \n",
       "3                                 0.950926  "
      ]
     },
     "execution_count": 16,
     "metadata": {},
     "output_type": "execute_result"
    }
   ],
   "source": [
    "res['mean_train_score'].unstack()"
   ]
  },
  {
   "cell_type": "code",
   "execution_count": 17,
   "metadata": {},
   "outputs": [
    {
     "data": {
      "text/plain": [
       "0.8056835523346784"
      ]
     },
     "execution_count": 17,
     "metadata": {},
     "output_type": "execute_result"
    }
   ],
   "source": [
    "grid.score(X_test, y_test)"
   ]
  },
  {
   "cell_type": "code",
   "execution_count": 18,
   "metadata": {},
   "outputs": [
    {
     "data": {
      "text/plain": [
       "{'polynomialfeatures__degree': 2, 'ridge__alpha': 10}"
      ]
     },
     "execution_count": 18,
     "metadata": {},
     "output_type": "execute_result"
    }
   ],
   "source": [
    "grid.best_params_"
   ]
  },
  {
   "cell_type": "markdown",
   "metadata": {},
   "source": [
    "## Want to compare performance of say... different scalers?"
   ]
  },
  {
   "cell_type": "code",
   "execution_count": 19,
   "metadata": {},
   "outputs": [
    {
     "data": {
      "text/plain": [
       "0.6854890055259635"
      ]
     },
     "execution_count": 19,
     "metadata": {},
     "output_type": "execute_result"
    }
   ],
   "source": [
    "pipe = Pipeline([('scaler', StandardScaler()), ('regressor', Ridge())])\n",
    "param_grid = {'scaler':[StandardScaler(), MinMaxScaler(), None],\n",
    "              'regressor':[Ridge(), Lasso()],\n",
    "              'regressor__alpha': [0.01, 0.1, 1, 10, 100]}\n",
    "\n",
    "grid = GridSearchCV(pipe, param_grid, cv = 5, n_jobs = -1, return_train_score=True)\n",
    "#grid = GridSearchCV(pipe, param_grid = param_grid, cv=5, n_jobs=-1, return_train_score=True)\n",
    "grid.fit(X_train, y_train)\n",
    "grid.score(X_test, y_test)"
   ]
  },
  {
   "cell_type": "code",
   "execution_count": 20,
   "metadata": {},
   "outputs": [
    {
     "data": {
      "text/plain": [
       "0.7166395719389276"
      ]
     },
     "execution_count": 20,
     "metadata": {},
     "output_type": "execute_result"
    }
   ],
   "source": [
    "grid.best_score_"
   ]
  },
  {
   "cell_type": "code",
   "execution_count": 21,
   "metadata": {},
   "outputs": [
    {
     "data": {
      "text/plain": [
       "{'regressor': Ridge(alpha=0.1, copy_X=True, fit_intercept=True, max_iter=None,\n",
       "    normalize=False, random_state=None, solver='auto', tol=0.001),\n",
       " 'regressor__alpha': 0.1,\n",
       " 'scaler': MinMaxScaler(copy=True, feature_range=(0, 1))}"
      ]
     },
     "execution_count": 21,
     "metadata": {},
     "output_type": "execute_result"
    }
   ],
   "source": [
    "grid.best_params_"
   ]
  }
 ],
 "metadata": {
  "kernelspec": {
   "display_name": "Python 3",
   "language": "python",
   "name": "python3"
  },
  "language_info": {
   "codemirror_mode": {
    "name": "ipython",
    "version": 3
   },
   "file_extension": ".py",
   "mimetype": "text/x-python",
   "name": "python",
   "nbconvert_exporter": "python",
   "pygments_lexer": "ipython3",
   "version": "3.6.5"
  }
 },
 "nbformat": 4,
 "nbformat_minor": 2
}
